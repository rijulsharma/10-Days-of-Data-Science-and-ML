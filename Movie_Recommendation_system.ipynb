{
  "nbformat": 4,
  "nbformat_minor": 0,
  "metadata": {
    "colab": {
      "name": "Movie_Recommendation_system",
      "provenance": [],
      "collapsed_sections": [],
      "authorship_tag": "ABX9TyMLd0DWsdx0CO4gj9zzplMp",
      "include_colab_link": true
    },
    "kernelspec": {
      "name": "python3",
      "display_name": "Python 3"
    }
  },
  "cells": [
    {
      "cell_type": "markdown",
      "metadata": {
        "id": "view-in-github",
        "colab_type": "text"
      },
      "source": [
        "<a href=\"https://colab.research.google.com/github/rijulsharma/10-Days-of-Data-Science-and-ML/blob/master/Movie_Recommendation_system.ipynb\" target=\"_parent\"><img src=\"https://colab.research.google.com/assets/colab-badge.svg\" alt=\"Open In Colab\"/></a>"
      ]
    },
    {
      "cell_type": "code",
      "metadata": {
        "id": "tZN6cWFdl5uo",
        "outputId": "7c272204-6c98-4903-f4ff-e03b2e5b6617",
        "colab": {
          "base_uri": "https://localhost:8080/",
          "height": 197
        }
      },
      "source": [
        "from numpy import *\n",
        "num_movies=10\n",
        "num_users=5\n",
        "ratings= random.randint(11,size=(num_movies,num_users)) \n",
        "print(ratings)"
      ],
      "execution_count": null,
      "outputs": [
        {
          "output_type": "stream",
          "text": [
            "[[ 2 10  7  9  9]\n",
            " [10  2  7  5  0]\n",
            " [ 3  8  4  4  2]\n",
            " [10  7  4  8  5]\n",
            " [ 7  8  3  5  2]\n",
            " [ 4  2  0  9 10]\n",
            " [ 1  7  3  2  2]\n",
            " [ 8 10  7  1  7]\n",
            " [ 3  9  6  9  8]\n",
            " [ 2  2  3  8  7]]\n"
          ],
          "name": "stdout"
        }
      ]
    },
    {
      "cell_type": "code",
      "metadata": {
        "id": "A051HsR6nblK",
        "outputId": "c35dff8a-abbf-4bbb-abce-90489ceab4b0",
        "colab": {
          "base_uri": "https://localhost:8080/",
          "height": 197
        }
      },
      "source": [
        "did_rate=(ratings!=0)*1\n",
        "print(did_rate)"
      ],
      "execution_count": null,
      "outputs": [
        {
          "output_type": "stream",
          "text": [
            "[[1 1 1 1 1]\n",
            " [1 1 1 1 0]\n",
            " [1 1 1 1 1]\n",
            " [1 1 1 1 1]\n",
            " [1 1 1 1 1]\n",
            " [1 1 0 1 1]\n",
            " [1 1 1 1 1]\n",
            " [1 1 1 1 1]\n",
            " [1 1 1 1 1]\n",
            " [1 1 1 1 1]]\n"
          ],
          "name": "stdout"
        }
      ]
    },
    {
      "cell_type": "code",
      "metadata": {
        "id": "-S2ZRvnKpV1i",
        "outputId": "c5de9e0c-4027-4db5-ce88-0b2e73db1aae",
        "colab": {
          "base_uri": "https://localhost:8080/",
          "height": 197
        }
      },
      "source": [
        "rijul_ratings=zeros((num_movies,1))\n",
        "print(rijul_ratings)"
      ],
      "execution_count": null,
      "outputs": [
        {
          "output_type": "stream",
          "text": [
            "[[0.]\n",
            " [0.]\n",
            " [0.]\n",
            " [0.]\n",
            " [0.]\n",
            " [0.]\n",
            " [0.]\n",
            " [0.]\n",
            " [0.]\n",
            " [0.]]\n"
          ],
          "name": "stdout"
        }
      ]
    },
    {
      "cell_type": "code",
      "metadata": {
        "id": "pQZCEK4Ap9Xc",
        "outputId": "4cb7c3db-fb0d-4a72-a366-fab5804bce5b",
        "colab": {
          "base_uri": "https://localhost:8080/",
          "height": 197
        }
      },
      "source": [
        "rijul_ratings[0]=8\n",
        "rijul_ratings[2]=7\n",
        "rijul_ratings[4]=3\n",
        "print(rijul_ratings)"
      ],
      "execution_count": null,
      "outputs": [
        {
          "output_type": "stream",
          "text": [
            "[[8.]\n",
            " [0.]\n",
            " [7.]\n",
            " [0.]\n",
            " [3.]\n",
            " [0.]\n",
            " [0.]\n",
            " [0.]\n",
            " [0.]\n",
            " [0.]]\n"
          ],
          "name": "stdout"
        }
      ]
    },
    {
      "cell_type": "code",
      "metadata": {
        "id": "eXsmMIvGqo_w",
        "outputId": "2b08fff4-9dae-4137-9091-eb8050104e27",
        "colab": {
          "base_uri": "https://localhost:8080/",
          "height": 377
        }
      },
      "source": [
        "ratings=append(rijul_ratings,ratings,axis=1)\n",
        "did_rate=append(((rijul_ratings!=0)*1),did_rate,axis=1)\n",
        "print(ratings)\n",
        "print(did_rate)"
      ],
      "execution_count": null,
      "outputs": [
        {
          "output_type": "stream",
          "text": [
            "[[ 8.  2. 10.  7.  9.  9.]\n",
            " [ 0. 10.  2.  7.  5.  0.]\n",
            " [ 7.  3.  8.  4.  4.  2.]\n",
            " [ 0. 10.  7.  4.  8.  5.]\n",
            " [ 3.  7.  8.  3.  5.  2.]\n",
            " [ 0.  4.  2.  0.  9. 10.]\n",
            " [ 0.  1.  7.  3.  2.  2.]\n",
            " [ 0.  8. 10.  7.  1.  7.]\n",
            " [ 0.  3.  9.  6.  9.  8.]\n",
            " [ 0.  2.  2.  3.  8.  7.]]\n",
            "[[1 1 1 1 1 1]\n",
            " [0 1 1 1 1 0]\n",
            " [1 1 1 1 1 1]\n",
            " [0 1 1 1 1 1]\n",
            " [1 1 1 1 1 1]\n",
            " [0 1 1 0 1 1]\n",
            " [0 1 1 1 1 1]\n",
            " [0 1 1 1 1 1]\n",
            " [0 1 1 1 1 1]\n",
            " [0 1 1 1 1 1]]\n"
          ],
          "name": "stdout"
        }
      ]
    },
    {
      "cell_type": "code",
      "metadata": {
        "id": "wwbTRIncs1bp"
      },
      "source": [
        "def normalize_ratings(ratings,did_rate):\n",
        "  num_movies=ratings.shape[0]\n",
        "\n",
        "  ratings_mean=zeros(shape=(num_movies,1))\n",
        "  ratings_norm=zeros(shape=ratings.shape)\n",
        "\n",
        "  for i in range (num_movies):\n",
        "    idx=where(did_rate[i]==1)[0]\n",
        "    ratings_mean[i]=mean(ratings[i,idx])\n",
        "    ratings_norm[i,idx]=ratings[i,idx]-ratings_mean[i]\n",
        "  return ratings_norm,ratings_mean\n"
      ],
      "execution_count": null,
      "outputs": []
    },
    {
      "cell_type": "code",
      "metadata": {
        "id": "FzzO_o49_ews",
        "outputId": "55c939e8-42e6-4240-98f1-03a2983afd02",
        "colab": {
          "base_uri": "https://localhost:8080/",
          "height": 197
        }
      },
      "source": [
        "ratings,ratings_mean=normalize_ratings(ratings,did_rate)\n",
        "print (ratings)"
      ],
      "execution_count": null,
      "outputs": [
        {
          "output_type": "stream",
          "text": [
            "[[ 0.5        -5.5         2.5        -0.5         1.5         1.5       ]\n",
            " [ 0.          4.         -4.          1.         -1.          0.        ]\n",
            " [ 2.33333333 -1.66666667  3.33333333 -0.66666667 -0.66666667 -2.66666667]\n",
            " [ 0.          3.2         0.2        -2.8         1.2        -1.8       ]\n",
            " [-1.66666667  2.33333333  3.33333333 -1.66666667  0.33333333 -2.66666667]\n",
            " [ 0.         -2.25       -4.25        0.          2.75        3.75      ]\n",
            " [ 0.         -2.          4.          0.         -1.         -1.        ]\n",
            " [ 0.          1.4         3.4         0.4        -5.6         0.4       ]\n",
            " [ 0.         -4.          2.         -1.          2.          1.        ]\n",
            " [ 0.         -2.4        -2.4        -1.4         3.6         2.6       ]]\n"
          ],
          "name": "stdout"
        }
      ]
    },
    {
      "cell_type": "code",
      "metadata": {
        "id": "qAtTTr1A_9-w",
        "outputId": "58a416f2-ffd0-433a-e972-dc566bc704a4",
        "colab": {
          "base_uri": "https://localhost:8080/",
          "height": 197
        }
      },
      "source": [
        "print(ratings_mean)"
      ],
      "execution_count": null,
      "outputs": [
        {
          "output_type": "stream",
          "text": [
            "[[7.5       ]\n",
            " [6.        ]\n",
            " [4.66666667]\n",
            " [6.8       ]\n",
            " [4.66666667]\n",
            " [6.25      ]\n",
            " [3.        ]\n",
            " [6.6       ]\n",
            " [7.        ]\n",
            " [4.4       ]]\n"
          ],
          "name": "stdout"
        }
      ]
    },
    {
      "cell_type": "code",
      "metadata": {
        "id": "rg-egxn2AbHW"
      },
      "source": [
        "num_users=ratings.shape[1]\n",
        "num_features=3\n"
      ],
      "execution_count": null,
      "outputs": []
    },
    {
      "cell_type": "code",
      "metadata": {
        "id": "owYvn1BjCCY8",
        "outputId": "0f568f51-21b4-433b-cead-2eee844cdb69",
        "colab": {
          "base_uri": "https://localhost:8080/",
          "height": 197
        }
      },
      "source": [
        "movie_features=random.randn(num_movies,num_features)\n",
        "user_prefs=random.randn(num_users,num_features)\n",
        "intial_X_and_theta= r_[movie_features.T.flatten(),user_prefs.T.flatten()]\n",
        "print(movie_features)\n",
        "\n",
        "                            "
      ],
      "execution_count": null,
      "outputs": [
        {
          "output_type": "stream",
          "text": [
            "[[ 1.68439184  0.06333963  0.38960823]\n",
            " [-1.82793848 -1.19487785 -0.08777884]\n",
            " [ 0.49049455  0.42250431 -0.70445626]\n",
            " [-0.81500182  0.67370502  0.36247413]\n",
            " [-0.44073656  0.47747894 -0.28558238]\n",
            " [-1.31966774  0.23641354 -0.73025547]\n",
            " [-1.14598422 -0.47478768 -1.33300251]\n",
            " [-0.96059131 -0.97602971  1.45971947]\n",
            " [-0.17298372 -1.54255178 -0.11566443]\n",
            " [-0.46836611 -0.36224871 -0.10419908]]\n"
          ],
          "name": "stdout"
        }
      ]
    },
    {
      "cell_type": "code",
      "metadata": {
        "id": "2nHA_XkxDDR2",
        "outputId": "9930a53b-22b8-4442-84d4-2f66f45bfd60",
        "colab": {
          "base_uri": "https://localhost:8080/",
          "height": 125
        }
      },
      "source": [
        "print(user_prefs)"
      ],
      "execution_count": null,
      "outputs": [
        {
          "output_type": "stream",
          "text": [
            "[[-0.03000819 -0.52683725  0.17767052]\n",
            " [ 1.56633173  1.20557929  0.12516324]\n",
            " [-0.94661597  0.64132909  1.2486581 ]\n",
            " [-0.45522706  0.32248979 -0.05104432]\n",
            " [-0.69542683 -0.90624151  0.57873431]\n",
            " [-0.79010865  0.59518858 -1.86392363]]\n"
          ],
          "name": "stdout"
        }
      ]
    },
    {
      "cell_type": "code",
      "metadata": {
        "id": "Ynpmr_mDDnti",
        "outputId": "ecf58df5-7ac5-4f0e-ce6a-fa7ae5f48086",
        "colab": {
          "base_uri": "https://localhost:8080/",
          "height": 161
        }
      },
      "source": [
        "print(intial_X_and_theta)"
      ],
      "execution_count": null,
      "outputs": [
        {
          "output_type": "stream",
          "text": [
            "[ 1.68439184 -1.82793848  0.49049455 -0.81500182 -0.44073656 -1.31966774\n",
            " -1.14598422 -0.96059131 -0.17298372 -0.46836611  0.06333963 -1.19487785\n",
            "  0.42250431  0.67370502  0.47747894  0.23641354 -0.47478768 -0.97602971\n",
            " -1.54255178 -0.36224871  0.38960823 -0.08777884 -0.70445626  0.36247413\n",
            " -0.28558238 -0.73025547 -1.33300251  1.45971947 -0.11566443 -0.10419908\n",
            " -0.03000819  1.56633173 -0.94661597 -0.45522706 -0.69542683 -0.79010865\n",
            " -0.52683725  1.20557929  0.64132909  0.32248979 -0.90624151  0.59518858\n",
            "  0.17767052  0.12516324  1.2486581  -0.05104432  0.57873431 -1.86392363]\n"
          ],
          "name": "stdout"
        }
      ]
    },
    {
      "cell_type": "code",
      "metadata": {
        "id": "-dgJpVx4qjG_"
      },
      "source": [
        "def unroll_params(X_and_theta,num_users,num_movies,num_features):\n",
        "  first_30=X_and_theta[:num_movies*num_features]\n",
        "  X=first_30.reshape((num_features,num_movies)).transpose()\n",
        "  last_18=X_and_theta[num_movies*num_features:]\n",
        "  theta=last_18.reshape(num_features,num_users).transpose()\n",
        "  return X, theta "
      ],
      "execution_count": null,
      "outputs": []
    },
    {
      "cell_type": "code",
      "metadata": {
        "id": "x05VDU5br9ap"
      },
      "source": [
        "def calculate_gradient(X_and_theta, ratings, did_rate, num_users, num_movies, num_features, reg_param):\n",
        "\tX, theta = unroll_params(X_and_theta, num_users, num_movies, num_features)\n",
        "\t\n",
        "\t\n",
        "\tdifference = X.dot( theta.T ) * did_rate - ratings\n",
        "\tX_grad = difference.dot( theta ) + reg_param * X\n",
        "\ttheta_grad = difference.T.dot( X ) + reg_param * theta\n",
        "\t\n",
        "\t \n",
        "\treturn r_[X_grad.T.flatten(), theta_grad.T.flatten()]"
      ],
      "execution_count": null,
      "outputs": []
    },
    {
      "cell_type": "code",
      "metadata": {
        "id": "4S4qDnVxsite"
      },
      "source": [
        "def calculate_cost(X_and_theta, ratings, did_rate, num_users, num_movies, num_features, reg_param):\n",
        "\tX, theta = unroll_params(X_and_theta, num_users, num_movies, num_features)\n",
        "\t\n",
        "\t\n",
        "\tcost = sum( (X.dot( theta.T ) * did_rate - ratings) ** 2 ) / 2\n",
        "\n",
        "\tregularization = (reg_param / 2) * (sum( theta**2 ) + sum(X**2))\n",
        "\treturn cost + regularization\n"
      ],
      "execution_count": null,
      "outputs": []
    },
    {
      "cell_type": "code",
      "metadata": {
        "id": "1JahrFTvtWqn",
        "outputId": "f9555c22-0c4f-49f5-d553-0f0c74d7cda3",
        "colab": {
          "base_uri": "https://localhost:8080/",
          "height": 107
        }
      },
      "source": [
        "from scipy import optimize\n",
        "reg_param = 30\n",
        "minimized_cost_and_optimal_params = optimize.fmin_cg(calculate_cost, fprime=calculate_gradient, x0=intial_X_and_theta,args=(ratings, did_rate, num_users, num_movies, num_features, reg_param),maxiter=100, disp=True, full_output=True)\n",
        "cost, optimal_movie_features_and_user_prefs = minimized_cost_and_optimal_params[1], minimized_cost_and_optimal_params[0]"
      ],
      "execution_count": null,
      "outputs": [
        {
          "output_type": "stream",
          "text": [
            "Optimization terminated successfully.\n",
            "         Current function value: 163.058333\n",
            "         Iterations: 10\n",
            "         Function evaluations: 22\n",
            "         Gradient evaluations: 22\n"
          ],
          "name": "stdout"
        }
      ]
    },
    {
      "cell_type": "code",
      "metadata": {
        "id": "F308enyrwI8b",
        "outputId": "675df2fb-a312-4a41-a91e-06ff7f17b787",
        "colab": {
          "base_uri": "https://localhost:8080/",
          "height": 197
        }
      },
      "source": [
        "print (movie_features)"
      ],
      "execution_count": null,
      "outputs": [
        {
          "output_type": "stream",
          "text": [
            "[[ 1.68439184  0.06333963  0.38960823]\n",
            " [-1.82793848 -1.19487785 -0.08777884]\n",
            " [ 0.49049455  0.42250431 -0.70445626]\n",
            " [-0.81500182  0.67370502  0.36247413]\n",
            " [-0.44073656  0.47747894 -0.28558238]\n",
            " [-1.31966774  0.23641354 -0.73025547]\n",
            " [-1.14598422 -0.47478768 -1.33300251]\n",
            " [-0.96059131 -0.97602971  1.45971947]\n",
            " [-0.17298372 -1.54255178 -0.11566443]\n",
            " [-0.46836611 -0.36224871 -0.10419908]]\n"
          ],
          "name": "stdout"
        }
      ]
    },
    {
      "cell_type": "code",
      "metadata": {
        "id": "RjjsWHJMwNq9",
        "outputId": "89fd7870-929a-4872-e564-4af94091691d",
        "colab": {
          "base_uri": "https://localhost:8080/",
          "height": 125
        }
      },
      "source": [
        "print (user_prefs)"
      ],
      "execution_count": null,
      "outputs": [
        {
          "output_type": "stream",
          "text": [
            "[[-0.03000819 -0.52683725  0.17767052]\n",
            " [ 1.56633173  1.20557929  0.12516324]\n",
            " [-0.94661597  0.64132909  1.2486581 ]\n",
            " [-0.45522706  0.32248979 -0.05104432]\n",
            " [-0.69542683 -0.90624151  0.57873431]\n",
            " [-0.79010865  0.59518858 -1.86392363]]\n"
          ],
          "name": "stdout"
        }
      ]
    },
    {
      "cell_type": "code",
      "metadata": {
        "id": "uBGZg3bFwXmE",
        "outputId": "16b01c1a-de1b-4a46-edc3-44a7bda63610",
        "colab": {
          "base_uri": "https://localhost:8080/",
          "height": 197
        }
      },
      "source": [
        "all_predictions = movie_features.dot( user_prefs.T )\n",
        "print(all_predictions)"
      ],
      "execution_count": null,
      "outputs": [
        {
          "output_type": "stream",
          "text": [
            "[[-0.01469332  2.76344196 -1.0673632  -0.76624165 -1.00329263 -2.01935353]\n",
            " [ 0.66876356 -4.3146647   0.85444007  0.45127177  2.30324473  0.89670541]\n",
            " [-0.36247097  1.18946759 -1.07297068 -0.05107458 -1.13168701  1.17697842]\n",
            " [-0.26607521 -0.41898995  1.65616663  0.56977163  0.16601089  0.36929742]\n",
            " [-0.28906756 -0.15044535  0.36683465  0.36919465 -0.29148752  1.16472352]\n",
            " [-0.21469549 -1.87342332  0.48899803  0.71426481  0.2808607   2.54453195]\n",
            " [ 0.04768949 -2.53422854 -0.88415257  0.43661105  0.45576619  3.10747872]\n",
            " [ 0.80238353 -2.49858264  2.10604536  0.04801716  2.39732934 -2.54275585]\n",
            " [ 0.7973145  -2.1450953  -0.96995951 -0.41280631  1.451283   -0.56584361]\n",
            " [ 0.18638783 -1.18337813  0.08093319  0.10171019  0.59369559  0.34867294]]\n"
          ],
          "name": "stdout"
        }
      ]
    },
    {
      "cell_type": "code",
      "metadata": {
        "id": "lO_IfV-0whbX"
      },
      "source": [
        "predictions_for_rijul = all_predictions[:, 0:1] + ratings_mean\n",
        "print (predictions_for_rijul)\n"
      ],
      "execution_count": null,
      "outputs": []
    },
    {
      "cell_type": "code",
      "metadata": {
        "id": "YIMYhdMjwuja",
        "outputId": "7ce4ea3e-2d68-47cd-c2d3-7de54d64211d",
        "colab": {
          "base_uri": "https://localhost:8080/",
          "height": 197
        }
      },
      "source": [
        "print (rijul_ratings)"
      ],
      "execution_count": null,
      "outputs": [
        {
          "output_type": "stream",
          "text": [
            "[[8.]\n",
            " [0.]\n",
            " [7.]\n",
            " [0.]\n",
            " [3.]\n",
            " [0.]\n",
            " [0.]\n",
            " [0.]\n",
            " [0.]\n",
            " [0.]]\n"
          ],
          "name": "stdout"
        }
      ]
    }
  ]
}