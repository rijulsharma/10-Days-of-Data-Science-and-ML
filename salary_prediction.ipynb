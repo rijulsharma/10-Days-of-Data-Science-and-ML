{
  "nbformat": 4,
  "nbformat_minor": 0,
  "metadata": {
    "colab": {
      "name": "salary_prediction",
      "provenance": [],
      "collapsed_sections": [],
      "authorship_tag": "ABX9TyO4wZYKKvQOPCwtYpjRmpG7",
      "include_colab_link": true
    },
    "kernelspec": {
      "name": "python3",
      "display_name": "Python 3"
    }
  },
  "cells": [
    {
      "cell_type": "markdown",
      "metadata": {
        "id": "view-in-github",
        "colab_type": "text"
      },
      "source": [
        "<a href=\"https://colab.research.google.com/github/rijulsharma/10-Days-of-Data-Science-and-ML/blob/master/salary_prediction.ipynb\" target=\"_parent\"><img src=\"https://colab.research.google.com/assets/colab-badge.svg\" alt=\"Open In Colab\"/></a>"
      ]
    },
    {
      "cell_type": "markdown",
      "metadata": {
        "id": "ARRT56MSyLtW"
      },
      "source": [
        "Importing libraries\n"
      ]
    },
    {
      "cell_type": "code",
      "metadata": {
        "id": "ZfPviuR_m0so"
      },
      "source": [
        "import pandas as pd"
      ],
      "execution_count": null,
      "outputs": []
    },
    {
      "cell_type": "markdown",
      "metadata": {
        "id": "iYSYuhRqyQwL"
      },
      "source": [
        "Loading the dataset"
      ]
    },
    {
      "cell_type": "code",
      "metadata": {
        "id": "B03PZyeIodIE",
        "outputId": "8480dd35-73bf-4a2f-e40c-230a28ff8537",
        "colab": {
          "base_uri": "https://localhost:8080/",
          "height": 202
        }
      },
      "source": [
        "df= pd.read_csv('salary.csv')\n",
        "df.head()"
      ],
      "execution_count": null,
      "outputs": [
        {
          "output_type": "execute_result",
          "data": {
            "text/html": [
              "<div>\n",
              "<style scoped>\n",
              "    .dataframe tbody tr th:only-of-type {\n",
              "        vertical-align: middle;\n",
              "    }\n",
              "\n",
              "    .dataframe tbody tr th {\n",
              "        vertical-align: top;\n",
              "    }\n",
              "\n",
              "    .dataframe thead th {\n",
              "        text-align: right;\n",
              "    }\n",
              "</style>\n",
              "<table border=\"1\" class=\"dataframe\">\n",
              "  <thead>\n",
              "    <tr style=\"text-align: right;\">\n",
              "      <th></th>\n",
              "      <th>Serial No</th>\n",
              "      <th>percentage</th>\n",
              "      <th>salary</th>\n",
              "    </tr>\n",
              "  </thead>\n",
              "  <tbody>\n",
              "    <tr>\n",
              "      <th>0</th>\n",
              "      <td>1</td>\n",
              "      <td>62.00</td>\n",
              "      <td>270000</td>\n",
              "    </tr>\n",
              "    <tr>\n",
              "      <th>1</th>\n",
              "      <td>2</td>\n",
              "      <td>76.33</td>\n",
              "      <td>200000</td>\n",
              "    </tr>\n",
              "    <tr>\n",
              "      <th>2</th>\n",
              "      <td>3</td>\n",
              "      <td>72.00</td>\n",
              "      <td>240000</td>\n",
              "    </tr>\n",
              "    <tr>\n",
              "      <th>3</th>\n",
              "      <td>4</td>\n",
              "      <td>60.00</td>\n",
              "      <td>250000</td>\n",
              "    </tr>\n",
              "    <tr>\n",
              "      <th>4</th>\n",
              "      <td>5</td>\n",
              "      <td>61.00</td>\n",
              "      <td>180000</td>\n",
              "    </tr>\n",
              "  </tbody>\n",
              "</table>\n",
              "</div>"
            ],
            "text/plain": [
              "   Serial No  percentage  salary\n",
              "0          1       62.00  270000\n",
              "1          2       76.33  200000\n",
              "2          3       72.00  240000\n",
              "3          4       60.00  250000\n",
              "4          5       61.00  180000"
            ]
          },
          "metadata": {
            "tags": []
          },
          "execution_count": 51
        }
      ]
    },
    {
      "cell_type": "markdown",
      "metadata": {
        "id": "_sX_R0f1yS5R"
      },
      "source": [
        "Removing unnecessary columns"
      ]
    },
    {
      "cell_type": "code",
      "metadata": {
        "id": "B3dZ350SqpFN",
        "outputId": "797c1c57-cbde-4857-9d6d-aeb6be8ed7e9",
        "colab": {
          "base_uri": "https://localhost:8080/",
          "height": 202
        }
      },
      "source": [
        "df.drop('Serial No',inplace=True,axis=1)\n",
        "df.head()"
      ],
      "execution_count": null,
      "outputs": [
        {
          "output_type": "execute_result",
          "data": {
            "text/html": [
              "<div>\n",
              "<style scoped>\n",
              "    .dataframe tbody tr th:only-of-type {\n",
              "        vertical-align: middle;\n",
              "    }\n",
              "\n",
              "    .dataframe tbody tr th {\n",
              "        vertical-align: top;\n",
              "    }\n",
              "\n",
              "    .dataframe thead th {\n",
              "        text-align: right;\n",
              "    }\n",
              "</style>\n",
              "<table border=\"1\" class=\"dataframe\">\n",
              "  <thead>\n",
              "    <tr style=\"text-align: right;\">\n",
              "      <th></th>\n",
              "      <th>percentage</th>\n",
              "      <th>salary</th>\n",
              "    </tr>\n",
              "  </thead>\n",
              "  <tbody>\n",
              "    <tr>\n",
              "      <th>0</th>\n",
              "      <td>62.00</td>\n",
              "      <td>270000</td>\n",
              "    </tr>\n",
              "    <tr>\n",
              "      <th>1</th>\n",
              "      <td>76.33</td>\n",
              "      <td>200000</td>\n",
              "    </tr>\n",
              "    <tr>\n",
              "      <th>2</th>\n",
              "      <td>72.00</td>\n",
              "      <td>240000</td>\n",
              "    </tr>\n",
              "    <tr>\n",
              "      <th>3</th>\n",
              "      <td>60.00</td>\n",
              "      <td>250000</td>\n",
              "    </tr>\n",
              "    <tr>\n",
              "      <th>4</th>\n",
              "      <td>61.00</td>\n",
              "      <td>180000</td>\n",
              "    </tr>\n",
              "  </tbody>\n",
              "</table>\n",
              "</div>"
            ],
            "text/plain": [
              "   percentage  salary\n",
              "0       62.00  270000\n",
              "1       76.33  200000\n",
              "2       72.00  240000\n",
              "3       60.00  250000\n",
              "4       61.00  180000"
            ]
          },
          "metadata": {
            "tags": []
          },
          "execution_count": 52
        }
      ]
    },
    {
      "cell_type": "markdown",
      "metadata": {
        "id": "ZCgcG8X8yYw6"
      },
      "source": [
        "splitting half of the data into training and other half into testing dataset"
      ]
    },
    {
      "cell_type": "code",
      "metadata": {
        "id": "fycCvukMpOCX"
      },
      "source": [
        "from sklearn.model_selection import train_test_split\n",
        "X = df.iloc[:, :-1].values\n",
        "y = df.iloc[:, 1].values\n",
        "X_train, X_test, y_train, y_test = train_test_split(X, y, test_size=1/2,)"
      ],
      "execution_count": null,
      "outputs": []
    },
    {
      "cell_type": "markdown",
      "metadata": {
        "id": "9H9RGcGayvYx"
      },
      "source": [
        "Applying LinearRegression class from sklearn"
      ]
    },
    {
      "cell_type": "code",
      "metadata": {
        "id": "CFBYbczRrN3M",
        "outputId": "ee4f9b21-c76b-47e9-c0d5-a3c041dac2ab",
        "colab": {
          "base_uri": "https://localhost:8080/",
          "height": 35
        }
      },
      "source": [
        "from sklearn.linear_model import LinearRegression\n",
        "regress = LinearRegression()\n",
        "regress.fit(X_train, y_train)\n"
      ],
      "execution_count": null,
      "outputs": [
        {
          "output_type": "execute_result",
          "data": {
            "text/plain": [
              "LinearRegression(copy_X=True, fit_intercept=True, n_jobs=None, normalize=False)"
            ]
          },
          "metadata": {
            "tags": []
          },
          "execution_count": 67
        }
      ]
    },
    {
      "cell_type": "markdown",
      "metadata": {
        "id": "5bUIcfWHzGi6"
      },
      "source": [
        "Predicting salary from user input percentage"
      ]
    },
    {
      "cell_type": "code",
      "metadata": {
        "id": "qA1-8QW9rUOq"
      },
      "source": [
        "predict = regress.predict(X_test)"
      ],
      "execution_count": null,
      "outputs": []
    },
    {
      "cell_type": "code",
      "metadata": {
        "id": "vt2tkgokrtyP",
        "outputId": "ca810a5d-fd94-4ba3-b8ca-51ca0d481433",
        "colab": {
          "base_uri": "https://localhost:8080/",
          "height": 52
        }
      },
      "source": [
        "n=int(input(\"Enter Your Percentage: \"))\n",
        "new_salary_pred = regress.predict([[n]])\n",
        "print('Your Predicted Salary is:  ',new_salary_pred)"
      ],
      "execution_count": null,
      "outputs": [
        {
          "output_type": "stream",
          "text": [
            "Enter Your Percentage: 65\n",
            "Your Predicted Salary is:   [224986.91971189]\n"
          ],
          "name": "stdout"
        }
      ]
    }
  ]
}